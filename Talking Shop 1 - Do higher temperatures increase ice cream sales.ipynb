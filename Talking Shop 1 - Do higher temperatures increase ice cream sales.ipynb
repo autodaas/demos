{
 "cells": [
  {
   "cell_type": "markdown",
   "metadata": {},
   "source": [
    "# Talking Shop: Do higher temperatures increase icecream sales?"
   ]
  },
  {
   "cell_type": "markdown",
   "metadata": {},
   "source": [
    "## Import Libraries\n",
    "First, import some libraries used throughout the rest of this notebook."
   ]
  },
  {
   "cell_type": "code",
   "execution_count": 1,
   "metadata": {},
   "outputs": [],
   "source": [
    "# import data analysis library\n",
    "import pandas\n",
    "# import numpy\n",
    "import numpy\n",
    "# import visualization library; plotting module\n",
    "import matplotlib.pyplot as pyplot\n",
    "# import visualization library;\n",
    "import seaborn\n",
    "# import a database toolkit library; query engine module\n",
    "from sqlalchemy.engine import create_engine\n",
    "# import scipy science toolkit; pearsonR correlation module\n",
    "from scipy.stats.stats import pearsonr\n",
    "# import Ipython display library; html display module\n",
    "from IPython.display import display_html"
   ]
  },
  {
   "cell_type": "markdown",
   "metadata": {},
   "source": [
    "## Create data connection\n",
    "Next, establish a connection to autodaas data platform"
   ]
  },
  {
   "cell_type": "code",
   "execution_count": 2,
   "metadata": {},
   "outputs": [],
   "source": [
    "# create a presto engine using the sqlalchemy create_engine \n",
    "engine = create_engine('presto://localhost:8080/hive')"
   ]
  },
  {
   "cell_type": "markdown",
   "metadata": {},
   "source": [
    "### List and preview the datasets\n",
    "Then, we review our datasets before beginning the analysis.\n",
    "- create variables for reference throughout the notebook for each dataset\n",
    "- convert the data tables into dataframes by querying each dataset using SQL.\n",
    "- preview each dataset to look at the columns and data in each dataset."
   ]
  },
  {
   "cell_type": "markdown",
   "metadata": {},
   "source": [
    "#### place into variables and convert queries into dataframes"
   ]
  },
  {
   "cell_type": "code",
   "execution_count": 3,
   "metadata": {},
   "outputs": [],
   "source": [
    "# place dataset names into variables\n",
    "monthlyavgtemps = 'adviews.monthlyavgtemp'\n",
    "icecreamsales_wfm = 'adviews.icecreamdb_productsales_wholefoods_icecream'\n",
    "icecreamsales_star = 'adviews.icecreamdb_productsales_starmarket_icecream'\n",
    "icecreamsales_stop = 'adviews.icecreamdb_productsales_stopandshop_icecream'\n",
    "\n",
    "# query each dataset into a dataframe (python table structure) using pandas read_sql function\n",
    "df_monthlyavgtemps = pandas.read_sql(\n",
    "\"\"\"\n",
    "    select * from %s\n",
    "\"\"\" % (monthlyavgtemps)\n",
    ", engine)\n",
    "# -----------------------------------------------\n",
    "df_icecreamsales_wfm = pandas.read_sql(\n",
    "\"\"\"\n",
    "    select * from %s ORDER BY sales_date ASC\n",
    "\"\"\" % (icecreamsales_wfm)\n",
    ", engine)\n",
    "# -----------------------------------------------\n",
    "df_icecreamsales_star = pandas.read_sql(\n",
    "\"\"\"\n",
    "    select * from %s ORDER BY sales_date ASC\n",
    "\"\"\" % (icecreamsales_star)\n",
    ", engine)\n",
    "# -----------------------------------------------\n",
    "df_icecreamsales_stop = pandas.read_sql(\n",
    "\"\"\"\n",
    "    select * from %s ORDER BY sales_date ASC\n",
    "\"\"\" % (icecreamsales_stop)\n",
    ", engine)"
   ]
  },
  {
   "cell_type": "markdown",
   "metadata": {},
   "source": [
    "#### display dataset previews"
   ]
  },
  {
   "cell_type": "code",
   "execution_count": 4,
   "metadata": {},
   "outputs": [
    {
     "data": {
      "text/html": [
       "<style  type=\"text/css\" >\n",
       "</style>  \n",
       "<table id=\"T_e4627e16_864a_11e8_af3f_0800272ea7c0\" style='display:inline'><caption>adviews.monthlyavgtemp</caption> \n",
       "<thead>    <tr> \n",
       "        <th class=\"blank level0\" ></th> \n",
       "        <th class=\"col_heading level0 col0\" >measure_year</th> \n",
       "        <th class=\"col_heading level0 col1\" >measure_month</th> \n",
       "        <th class=\"col_heading level0 col2\" >avgtemp</th> \n",
       "    </tr></thead> \n",
       "<tbody>    <tr> \n",
       "        <th id=\"T_e4627e16_864a_11e8_af3f_0800272ea7c0level0_row0\" class=\"row_heading level0 row0\" >0</th> \n",
       "        <td id=\"T_e4627e16_864a_11e8_af3f_0800272ea7c0row0_col0\" class=\"data row0 col0\" >2015</td> \n",
       "        <td id=\"T_e4627e16_864a_11e8_af3f_0800272ea7c0row0_col1\" class=\"data row0 col1\" >1</td> \n",
       "        <td id=\"T_e4627e16_864a_11e8_af3f_0800272ea7c0row0_col2\" class=\"data row0 col2\" >36</td> \n",
       "    </tr>    <tr> \n",
       "        <th id=\"T_e4627e16_864a_11e8_af3f_0800272ea7c0level0_row1\" class=\"row_heading level0 row1\" >1</th> \n",
       "        <td id=\"T_e4627e16_864a_11e8_af3f_0800272ea7c0row1_col0\" class=\"data row1 col0\" >2015</td> \n",
       "        <td id=\"T_e4627e16_864a_11e8_af3f_0800272ea7c0row1_col1\" class=\"data row1 col1\" >2</td> \n",
       "        <td id=\"T_e4627e16_864a_11e8_af3f_0800272ea7c0row1_col2\" class=\"data row1 col2\" >39</td> \n",
       "    </tr>    <tr> \n",
       "        <th id=\"T_e4627e16_864a_11e8_af3f_0800272ea7c0level0_row2\" class=\"row_heading level0 row2\" >2</th> \n",
       "        <td id=\"T_e4627e16_864a_11e8_af3f_0800272ea7c0row2_col0\" class=\"data row2 col0\" >2015</td> \n",
       "        <td id=\"T_e4627e16_864a_11e8_af3f_0800272ea7c0row2_col1\" class=\"data row2 col1\" >3</td> \n",
       "        <td id=\"T_e4627e16_864a_11e8_af3f_0800272ea7c0row2_col2\" class=\"data row2 col2\" >45</td> \n",
       "    </tr></tbody> \n",
       "</table> <style  type=\"text/css\" >\n",
       "</style>  \n",
       "<table id=\"T_e462d4ec_864a_11e8_af3f_0800272ea7c0\" style='display:inline'><caption>adviews.icecreamdb_productsales_wholefoods_icecream</caption> \n",
       "<thead>    <tr> \n",
       "        <th class=\"blank level0\" ></th> \n",
       "        <th class=\"col_heading level0 col0\" >sales_date</th> \n",
       "        <th class=\"col_heading level0 col1\" >customer_id</th> \n",
       "        <th class=\"col_heading level0 col2\" >brand</th> \n",
       "        <th class=\"col_heading level0 col3\" >flavor</th> \n",
       "        <th class=\"col_heading level0 col4\" >units</th> \n",
       "        <th class=\"col_heading level0 col5\" >location_address</th> \n",
       "    </tr></thead> \n",
       "<tbody>    <tr> \n",
       "        <th id=\"T_e462d4ec_864a_11e8_af3f_0800272ea7c0level0_row0\" class=\"row_heading level0 row0\" >0</th> \n",
       "        <td id=\"T_e462d4ec_864a_11e8_af3f_0800272ea7c0row0_col0\" class=\"data row0 col0\" >2015-01-02 00:00:00.000</td> \n",
       "        <td id=\"T_e462d4ec_864a_11e8_af3f_0800272ea7c0row0_col1\" class=\"data row0 col1\" >8306</td> \n",
       "        <td id=\"T_e462d4ec_864a_11e8_af3f_0800272ea7c0row0_col2\" class=\"data row0 col2\" >Ben & Jerrys</td> \n",
       "        <td id=\"T_e462d4ec_864a_11e8_af3f_0800272ea7c0row0_col3\" class=\"data row0 col3\" >Karamel Sutra Core</td> \n",
       "        <td id=\"T_e462d4ec_864a_11e8_af3f_0800272ea7c0row0_col4\" class=\"data row0 col4\" >1</td> \n",
       "        <td id=\"T_e462d4ec_864a_11e8_af3f_0800272ea7c0row0_col5\" class=\"data row0 col5\" >181 Cambridge St, Boston, MA 02114</td> \n",
       "    </tr>    <tr> \n",
       "        <th id=\"T_e462d4ec_864a_11e8_af3f_0800272ea7c0level0_row1\" class=\"row_heading level0 row1\" >1</th> \n",
       "        <td id=\"T_e462d4ec_864a_11e8_af3f_0800272ea7c0row1_col0\" class=\"data row1 col0\" >2015-01-02 00:00:00.000</td> \n",
       "        <td id=\"T_e462d4ec_864a_11e8_af3f_0800272ea7c0row1_col1\" class=\"data row1 col1\" >8194</td> \n",
       "        <td id=\"T_e462d4ec_864a_11e8_af3f_0800272ea7c0row1_col2\" class=\"data row1 col2\" >Talenti</td> \n",
       "        <td id=\"T_e462d4ec_864a_11e8_af3f_0800272ea7c0row1_col3\" class=\"data row1 col3\" >Peanut Butter Pretzel</td> \n",
       "        <td id=\"T_e462d4ec_864a_11e8_af3f_0800272ea7c0row1_col4\" class=\"data row1 col4\" >1</td> \n",
       "        <td id=\"T_e462d4ec_864a_11e8_af3f_0800272ea7c0row1_col5\" class=\"data row1 col5\" >181 Cambridge St, Boston, MA 02114</td> \n",
       "    </tr>    <tr> \n",
       "        <th id=\"T_e462d4ec_864a_11e8_af3f_0800272ea7c0level0_row2\" class=\"row_heading level0 row2\" >2</th> \n",
       "        <td id=\"T_e462d4ec_864a_11e8_af3f_0800272ea7c0row2_col0\" class=\"data row2 col0\" >2015-01-03 00:00:00.000</td> \n",
       "        <td id=\"T_e462d4ec_864a_11e8_af3f_0800272ea7c0row2_col1\" class=\"data row2 col1\" >8810</td> \n",
       "        <td id=\"T_e462d4ec_864a_11e8_af3f_0800272ea7c0row2_col2\" class=\"data row2 col2\" >Talenti</td> \n",
       "        <td id=\"T_e462d4ec_864a_11e8_af3f_0800272ea7c0row2_col3\" class=\"data row2 col3\" >Coffee Chocolate Chip Gelato</td> \n",
       "        <td id=\"T_e462d4ec_864a_11e8_af3f_0800272ea7c0row2_col4\" class=\"data row2 col4\" >1</td> \n",
       "        <td id=\"T_e462d4ec_864a_11e8_af3f_0800272ea7c0row2_col5\" class=\"data row2 col5\" >181 Cambridge St, Boston, MA 02114</td> \n",
       "    </tr></tbody> \n",
       "</table> <style  type=\"text/css\" >\n",
       "</style>  \n",
       "<table id=\"T_e46367cc_864a_11e8_af3f_0800272ea7c0\" style='display:inline'><caption>adviews.icecreamdb_productsales_starmarket_icecream</caption> \n",
       "<thead>    <tr> \n",
       "        <th class=\"blank level0\" ></th> \n",
       "        <th class=\"col_heading level0 col0\" >sales_date</th> \n",
       "        <th class=\"col_heading level0 col1\" >customer_id</th> \n",
       "        <th class=\"col_heading level0 col2\" >brand</th> \n",
       "        <th class=\"col_heading level0 col3\" >flavor</th> \n",
       "        <th class=\"col_heading level0 col4\" >units</th> \n",
       "        <th class=\"col_heading level0 col5\" >location_address</th> \n",
       "    </tr></thead> \n",
       "<tbody>    <tr> \n",
       "        <th id=\"T_e46367cc_864a_11e8_af3f_0800272ea7c0level0_row0\" class=\"row_heading level0 row0\" >0</th> \n",
       "        <td id=\"T_e46367cc_864a_11e8_af3f_0800272ea7c0row0_col0\" class=\"data row0 col0\" >2015-01-01 00:00:00.000</td> \n",
       "        <td id=\"T_e46367cc_864a_11e8_af3f_0800272ea7c0row0_col1\" class=\"data row0 col1\" >926</td> \n",
       "        <td id=\"T_e46367cc_864a_11e8_af3f_0800272ea7c0row0_col2\" class=\"data row0 col2\" >Magnum</td> \n",
       "        <td id=\"T_e46367cc_864a_11e8_af3f_0800272ea7c0row0_col3\" class=\"data row0 col3\" >Double Chocolate Vanilla</td> \n",
       "        <td id=\"T_e46367cc_864a_11e8_af3f_0800272ea7c0row0_col4\" class=\"data row0 col4\" >1</td> \n",
       "        <td id=\"T_e46367cc_864a_11e8_af3f_0800272ea7c0row0_col5\" class=\"data row0 col5\" >53 Huntington Ave, Boston, MA 02199</td> \n",
       "    </tr>    <tr> \n",
       "        <th id=\"T_e46367cc_864a_11e8_af3f_0800272ea7c0level0_row1\" class=\"row_heading level0 row1\" >1</th> \n",
       "        <td id=\"T_e46367cc_864a_11e8_af3f_0800272ea7c0row1_col0\" class=\"data row1 col0\" >2015-01-01 00:00:00.000</td> \n",
       "        <td id=\"T_e46367cc_864a_11e8_af3f_0800272ea7c0row1_col1\" class=\"data row1 col1\" >8899</td> \n",
       "        <td id=\"T_e46367cc_864a_11e8_af3f_0800272ea7c0row1_col2\" class=\"data row1 col2\" >Magnum</td> \n",
       "        <td id=\"T_e46367cc_864a_11e8_af3f_0800272ea7c0row1_col3\" class=\"data row1 col3\" >Double Cherry Truffle</td> \n",
       "        <td id=\"T_e46367cc_864a_11e8_af3f_0800272ea7c0row1_col4\" class=\"data row1 col4\" >1</td> \n",
       "        <td id=\"T_e46367cc_864a_11e8_af3f_0800272ea7c0row1_col5\" class=\"data row1 col5\" >53 Huntington Ave, Boston, MA 02199</td> \n",
       "    </tr>    <tr> \n",
       "        <th id=\"T_e46367cc_864a_11e8_af3f_0800272ea7c0level0_row2\" class=\"row_heading level0 row2\" >2</th> \n",
       "        <td id=\"T_e46367cc_864a_11e8_af3f_0800272ea7c0row2_col0\" class=\"data row2 col0\" >2015-01-01 00:00:00.000</td> \n",
       "        <td id=\"T_e46367cc_864a_11e8_af3f_0800272ea7c0row2_col1\" class=\"data row2 col1\" >4519</td> \n",
       "        <td id=\"T_e46367cc_864a_11e8_af3f_0800272ea7c0row2_col2\" class=\"data row2 col2\" >Magnum</td> \n",
       "        <td id=\"T_e46367cc_864a_11e8_af3f_0800272ea7c0row2_col3\" class=\"data row2 col3\" >Double Cookies & Cream</td> \n",
       "        <td id=\"T_e46367cc_864a_11e8_af3f_0800272ea7c0row2_col4\" class=\"data row2 col4\" >2</td> \n",
       "        <td id=\"T_e46367cc_864a_11e8_af3f_0800272ea7c0row2_col5\" class=\"data row2 col5\" >53 Huntington Ave, Boston, MA 02199</td> \n",
       "    </tr></tbody> \n",
       "</table> <style  type=\"text/css\" >\n",
       "</style>  \n",
       "<table id=\"T_e463fbc4_864a_11e8_af3f_0800272ea7c0\" style='display:inline'><caption>adviews.icecreamdb_productsales_stopandshop_icecream</caption> \n",
       "<thead>    <tr> \n",
       "        <th class=\"blank level0\" ></th> \n",
       "        <th class=\"col_heading level0 col0\" >sales_date</th> \n",
       "        <th class=\"col_heading level0 col1\" >customer_id</th> \n",
       "        <th class=\"col_heading level0 col2\" >brand</th> \n",
       "        <th class=\"col_heading level0 col3\" >flavor</th> \n",
       "        <th class=\"col_heading level0 col4\" >units</th> \n",
       "        <th class=\"col_heading level0 col5\" >location_address</th> \n",
       "    </tr></thead> \n",
       "<tbody>    <tr> \n",
       "        <th id=\"T_e463fbc4_864a_11e8_af3f_0800272ea7c0level0_row0\" class=\"row_heading level0 row0\" >0</th> \n",
       "        <td id=\"T_e463fbc4_864a_11e8_af3f_0800272ea7c0row0_col0\" class=\"data row0 col0\" >2015-01-01 00:00:00.000</td> \n",
       "        <td id=\"T_e463fbc4_864a_11e8_af3f_0800272ea7c0row0_col1\" class=\"data row0 col1\" >2808</td> \n",
       "        <td id=\"T_e463fbc4_864a_11e8_af3f_0800272ea7c0row0_col2\" class=\"data row0 col2\" >Ben & Jerrys</td> \n",
       "        <td id=\"T_e463fbc4_864a_11e8_af3f_0800272ea7c0row0_col3\" class=\"data row0 col3\" >Chubby Hubby</td> \n",
       "        <td id=\"T_e463fbc4_864a_11e8_af3f_0800272ea7c0row0_col4\" class=\"data row0 col4\" >3</td> \n",
       "        <td id=\"T_e463fbc4_864a_11e8_af3f_0800272ea7c0row0_col5\" class=\"data row0 col5\" >713 E Broadway, Boston, MA 02127</td> \n",
       "    </tr>    <tr> \n",
       "        <th id=\"T_e463fbc4_864a_11e8_af3f_0800272ea7c0level0_row1\" class=\"row_heading level0 row1\" >1</th> \n",
       "        <td id=\"T_e463fbc4_864a_11e8_af3f_0800272ea7c0row1_col0\" class=\"data row1 col0\" >2015-01-02 00:00:00.000</td> \n",
       "        <td id=\"T_e463fbc4_864a_11e8_af3f_0800272ea7c0row1_col1\" class=\"data row1 col1\" >6471</td> \n",
       "        <td id=\"T_e463fbc4_864a_11e8_af3f_0800272ea7c0row1_col2\" class=\"data row1 col2\" >Magnum</td> \n",
       "        <td id=\"T_e463fbc4_864a_11e8_af3f_0800272ea7c0row1_col3\" class=\"data row1 col3\" >Double Caramel</td> \n",
       "        <td id=\"T_e463fbc4_864a_11e8_af3f_0800272ea7c0row1_col4\" class=\"data row1 col4\" >1</td> \n",
       "        <td id=\"T_e463fbc4_864a_11e8_af3f_0800272ea7c0row1_col5\" class=\"data row1 col5\" >713 E Broadway, Boston, MA 02127</td> \n",
       "    </tr>    <tr> \n",
       "        <th id=\"T_e463fbc4_864a_11e8_af3f_0800272ea7c0level0_row2\" class=\"row_heading level0 row2\" >2</th> \n",
       "        <td id=\"T_e463fbc4_864a_11e8_af3f_0800272ea7c0row2_col0\" class=\"data row2 col0\" >2015-01-02 00:00:00.000</td> \n",
       "        <td id=\"T_e463fbc4_864a_11e8_af3f_0800272ea7c0row2_col1\" class=\"data row2 col1\" >1714</td> \n",
       "        <td id=\"T_e463fbc4_864a_11e8_af3f_0800272ea7c0row2_col2\" class=\"data row2 col2\" >Ben & Jerrys</td> \n",
       "        <td id=\"T_e463fbc4_864a_11e8_af3f_0800272ea7c0row2_col3\" class=\"data row2 col3\" >Frozen Flakes</td> \n",
       "        <td id=\"T_e463fbc4_864a_11e8_af3f_0800272ea7c0row2_col4\" class=\"data row2 col4\" >1</td> \n",
       "        <td id=\"T_e463fbc4_864a_11e8_af3f_0800272ea7c0row2_col5\" class=\"data row2 col5\" >713 E Broadway, Boston, MA 02127</td> \n",
       "    </tr></tbody> \n",
       "</table> "
      ]
     },
     "metadata": {},
     "output_type": "display_data"
    }
   ],
   "source": [
    "# display dataframe previews inline\n",
    "df1 = df_monthlyavgtemps.head(3) \\\n",
    "    .style.set_table_attributes(\"style='display:inline'\").set_caption(monthlyavgtemps)\n",
    "df2 = df_icecreamsales_wfm.head(3) \\\n",
    "    .style.set_table_attributes(\"style='display:inline'\").set_caption(icecreamsales_wfm)\n",
    "df3 = df_icecreamsales_star.head(3) \\\n",
    "    .style.set_table_attributes(\"style='display:inline'\").set_caption(icecreamsales_star)\n",
    "df4 = df_icecreamsales_stop.head(3) \\\n",
    "    .style.set_table_attributes(\"style='display:inline'\").set_caption(icecreamsales_stop)\n",
    "display_html(\n",
    "    df1._repr_html_()\\\n",
    "    +df2._repr_html_()\\\n",
    "    +df3._repr_html_()\\\n",
    "    +df4._repr_html_(), raw=True)"
   ]
  },
  {
   "cell_type": "markdown",
   "metadata": {},
   "source": [
    "### Utilize SQL to transform data\n",
    "- utilize sql to create a master dataframe\n",
    "    - union all product sales tables\n",
    "    - join temperatures and the above union query\n",
    "    - average aggregation of temperatures (by year, month)\n",
    "    - sum aggregation of units sold (by month)"
   ]
  },
  {
   "cell_type": "markdown",
   "metadata": {},
   "source": [
    "#### create sql query using variables"
   ]
  },
  {
   "cell_type": "code",
   "execution_count": 5,
   "metadata": {},
   "outputs": [],
   "source": [
    "# generate a sql query using table name variables\n",
    "master_df_sql = \"\"\"\n",
    "select \n",
    "\tsales_month,\n",
    "\tavg(avgtemp) as avgtemp,\n",
    "\tsum(units) as units\n",
    "from \n",
    "\t(\n",
    "\t\tselect\n",
    "\t\t\tYEAR(sales_date) as sales_year,\n",
    "\t\t\tMONTH(sales_date) as sales_month,\n",
    "\t\t\tavgtemp,\n",
    "\t\t\tunits\n",
    "\t\tfrom \n",
    "\t\t(\n",
    "\t\t\t  select\n",
    "\t\t\t\tsales_date,\n",
    "\t\t\t\tunits\n",
    "\t\t\t  from\n",
    "\t\t\t\t%s\n",
    "\t\t\tunion\n",
    "\t\t\t  select\n",
    "\t\t\t\tsales_date,\n",
    "\t\t\t\tunits\n",
    "\t\t\t  from\n",
    "\t\t\t\t%s\n",
    "\t\t\tunion\n",
    "\t\t\t select\n",
    "\t\t\t\tsales_date,\n",
    "\t\t\t\tunits\n",
    "\t\t\t  from\n",
    "\t\t\t\t%s\n",
    "\t\t)\n",
    "\t\tjoin\n",
    "\t\t\t%s\n",
    "\t\t\ton\n",
    "\t\t\t\tmeasure_year =  YEAR(sales_date)\n",
    "\t\t\t\tand\n",
    "\t\t\t\tmeasure_month = MONTH(sales_date)\n",
    "\t\torder by YEAR(sales_date), MONTH(sales_date) asc\n",
    "\t)\n",
    "group by sales_month\n",
    "order by sales_month asc\n",
    "\"\"\" % (icecreamsales_wfm, icecreamsales_star, icecreamsales_stop, monthlyavgtemps)\n",
    "\n",
    "## print sql for debugging\n",
    "# print master_df_sql"
   ]
  },
  {
   "cell_type": "code",
   "execution_count": 6,
   "metadata": {},
   "outputs": [
    {
     "name": "stdout",
     "output_type": "stream",
     "text": [
      "\n",
      "select \n",
      "\tsales_month,\n",
      "\tavg(avgtemp) as avgtemp,\n",
      "\tsum(units) as units\n",
      "from \n",
      "\t(\n",
      "\t\tselect\n",
      "\t\t\tYEAR(sales_date) as sales_year,\n",
      "\t\t\tMONTH(sales_date) as sales_month,\n",
      "\t\t\tavgtemp,\n",
      "\t\t\tunits\n",
      "\t\tfrom \n",
      "\t\t(\n",
      "\t\t\t  select\n",
      "\t\t\t\tsales_date,\n",
      "\t\t\t\tunits\n",
      "\t\t\t  from\n",
      "\t\t\t\tadviews.icecreamdb_productsales_wholefoods_icecream\n",
      "\t\t\tunion\n",
      "\t\t\t  select\n",
      "\t\t\t\tsales_date,\n",
      "\t\t\t\tunits\n",
      "\t\t\t  from\n",
      "\t\t\t\tadviews.icecreamdb_productsales_starmarket_icecream\n",
      "\t\t\tunion\n",
      "\t\t\t select\n",
      "\t\t\t\tsales_date,\n",
      "\t\t\t\tunits\n",
      "\t\t\t  from\n",
      "\t\t\t\tadviews.icecreamdb_productsales_stopandshop_icecream\n",
      "\t\t)\n",
      "\t\tjoin\n",
      "\t\t\tadviews.monthlyavgtemp\n",
      "\t\t\ton\n",
      "\t\t\t\tmeasure_year =  YEAR(sales_date)\n",
      "\t\t\t\tand\n",
      "\t\t\t\tmeasure_month = MONTH(sales_date)\n",
      "\t\torder by YEAR(sales_date), MONTH(sales_date) asc\n",
      "\t)\n",
      "group by sales_month\n",
      "order by sales_month asc\n",
      "\n"
     ]
    }
   ],
   "source": [
    "# master dataframe sql query\n",
    "print master_df_sql"
   ]
  },
  {
   "cell_type": "markdown",
   "metadata": {},
   "source": [
    "#### convert sql query into master dataframe"
   ]
  },
  {
   "cell_type": "code",
   "execution_count": 7,
   "metadata": {},
   "outputs": [
    {
     "data": {
      "text/html": [
       "<div>\n",
       "<style scoped>\n",
       "    .dataframe tbody tr th:only-of-type {\n",
       "        vertical-align: middle;\n",
       "    }\n",
       "\n",
       "    .dataframe tbody tr th {\n",
       "        vertical-align: top;\n",
       "    }\n",
       "\n",
       "    .dataframe thead th {\n",
       "        text-align: right;\n",
       "    }\n",
       "</style>\n",
       "<table border=\"1\" class=\"dataframe\">\n",
       "  <thead>\n",
       "    <tr style=\"text-align: right;\">\n",
       "      <th></th>\n",
       "      <th>sales_month</th>\n",
       "      <th>avgtemp</th>\n",
       "      <th>units</th>\n",
       "    </tr>\n",
       "  </thead>\n",
       "  <tbody>\n",
       "    <tr>\n",
       "      <th>0</th>\n",
       "      <td>1</td>\n",
       "      <td>35.775100</td>\n",
       "      <td>523</td>\n",
       "    </tr>\n",
       "    <tr>\n",
       "      <th>1</th>\n",
       "      <td>2</td>\n",
       "      <td>38.602510</td>\n",
       "      <td>505</td>\n",
       "    </tr>\n",
       "    <tr>\n",
       "      <th>2</th>\n",
       "      <td>3</td>\n",
       "      <td>44.615702</td>\n",
       "      <td>541</td>\n",
       "    </tr>\n",
       "    <tr>\n",
       "      <th>3</th>\n",
       "      <td>4</td>\n",
       "      <td>55.724000</td>\n",
       "      <td>523</td>\n",
       "    </tr>\n",
       "    <tr>\n",
       "      <th>4</th>\n",
       "      <td>5</td>\n",
       "      <td>65.618881</td>\n",
       "      <td>626</td>\n",
       "    </tr>\n",
       "    <tr>\n",
       "      <th>5</th>\n",
       "      <td>6</td>\n",
       "      <td>75.604096</td>\n",
       "      <td>643</td>\n",
       "    </tr>\n",
       "    <tr>\n",
       "      <th>6</th>\n",
       "      <td>7</td>\n",
       "      <td>80.656160</td>\n",
       "      <td>857</td>\n",
       "    </tr>\n",
       "    <tr>\n",
       "      <th>7</th>\n",
       "      <td>8</td>\n",
       "      <td>79.640127</td>\n",
       "      <td>722</td>\n",
       "    </tr>\n",
       "    <tr>\n",
       "      <th>8</th>\n",
       "      <td>9</td>\n",
       "      <td>71.604982</td>\n",
       "      <td>753</td>\n",
       "    </tr>\n",
       "    <tr>\n",
       "      <th>9</th>\n",
       "      <td>10</td>\n",
       "      <td>58.010204</td>\n",
       "      <td>427</td>\n",
       "    </tr>\n",
       "    <tr>\n",
       "      <th>10</th>\n",
       "      <td>11</td>\n",
       "      <td>51.595238</td>\n",
       "      <td>568</td>\n",
       "    </tr>\n",
       "    <tr>\n",
       "      <th>11</th>\n",
       "      <td>12</td>\n",
       "      <td>40.680000</td>\n",
       "      <td>590</td>\n",
       "    </tr>\n",
       "  </tbody>\n",
       "</table>\n",
       "</div>"
      ],
      "text/plain": [
       "    sales_month    avgtemp  units\n",
       "0             1  35.775100    523\n",
       "1             2  38.602510    505\n",
       "2             3  44.615702    541\n",
       "3             4  55.724000    523\n",
       "4             5  65.618881    626\n",
       "5             6  75.604096    643\n",
       "6             7  80.656160    857\n",
       "7             8  79.640127    722\n",
       "8             9  71.604982    753\n",
       "9            10  58.010204    427\n",
       "10           11  51.595238    568\n",
       "11           12  40.680000    590"
      ]
     },
     "execution_count": 7,
     "metadata": {},
     "output_type": "execute_result"
    }
   ],
   "source": [
    "# run sql query into a dataframe\n",
    "df_master = pandas.read_sql(master_df_sql , engine)\n",
    "df_master"
   ]
  },
  {
   "cell_type": "markdown",
   "metadata": {},
   "source": [
    "## Describe and Analyze dataset\n",
    "Finally, we use statistical and visualization tools to support hypothesis"
   ]
  },
  {
   "cell_type": "markdown",
   "metadata": {},
   "source": [
    "### Use statistical tools for a data overivew"
   ]
  },
  {
   "cell_type": "markdown",
   "metadata": {},
   "source": [
    "#### statistical description of dataset\n",
    "- description: show count, mean, standard deviation quartiles and min/max of dataset\n",
    "- insight: various statistics such as average monthly unit sales, standard deviation of sales per month and maximum unit sales can be found below."
   ]
  },
  {
   "cell_type": "code",
   "execution_count": 8,
   "metadata": {},
   "outputs": [
    {
     "data": {
      "text/html": [
       "<div>\n",
       "<style scoped>\n",
       "    .dataframe tbody tr th:only-of-type {\n",
       "        vertical-align: middle;\n",
       "    }\n",
       "\n",
       "    .dataframe tbody tr th {\n",
       "        vertical-align: top;\n",
       "    }\n",
       "\n",
       "    .dataframe thead th {\n",
       "        text-align: right;\n",
       "    }\n",
       "</style>\n",
       "<table border=\"1\" class=\"dataframe\">\n",
       "  <thead>\n",
       "    <tr style=\"text-align: right;\">\n",
       "      <th></th>\n",
       "      <th>sales_month</th>\n",
       "      <th>avgtemp</th>\n",
       "      <th>units</th>\n",
       "    </tr>\n",
       "  </thead>\n",
       "  <tbody>\n",
       "    <tr>\n",
       "      <th>count</th>\n",
       "      <td>12.000000</td>\n",
       "      <td>12.000000</td>\n",
       "      <td>12.000000</td>\n",
       "    </tr>\n",
       "    <tr>\n",
       "      <th>mean</th>\n",
       "      <td>6.500000</td>\n",
       "      <td>58.177250</td>\n",
       "      <td>606.500000</td>\n",
       "    </tr>\n",
       "    <tr>\n",
       "      <th>std</th>\n",
       "      <td>3.605551</td>\n",
       "      <td>16.320090</td>\n",
       "      <td>121.272421</td>\n",
       "    </tr>\n",
       "    <tr>\n",
       "      <th>min</th>\n",
       "      <td>1.000000</td>\n",
       "      <td>35.775100</td>\n",
       "      <td>427.000000</td>\n",
       "    </tr>\n",
       "    <tr>\n",
       "      <th>25%</th>\n",
       "      <td>3.750000</td>\n",
       "      <td>43.631777</td>\n",
       "      <td>523.000000</td>\n",
       "    </tr>\n",
       "    <tr>\n",
       "      <th>50%</th>\n",
       "      <td>6.500000</td>\n",
       "      <td>56.867102</td>\n",
       "      <td>579.000000</td>\n",
       "    </tr>\n",
       "    <tr>\n",
       "      <th>75%</th>\n",
       "      <td>9.250000</td>\n",
       "      <td>72.604761</td>\n",
       "      <td>662.750000</td>\n",
       "    </tr>\n",
       "    <tr>\n",
       "      <th>max</th>\n",
       "      <td>12.000000</td>\n",
       "      <td>80.656160</td>\n",
       "      <td>857.000000</td>\n",
       "    </tr>\n",
       "  </tbody>\n",
       "</table>\n",
       "</div>"
      ],
      "text/plain": [
       "       sales_month    avgtemp       units\n",
       "count    12.000000  12.000000   12.000000\n",
       "mean      6.500000  58.177250  606.500000\n",
       "std       3.605551  16.320090  121.272421\n",
       "min       1.000000  35.775100  427.000000\n",
       "25%       3.750000  43.631777  523.000000\n",
       "50%       6.500000  56.867102  579.000000\n",
       "75%       9.250000  72.604761  662.750000\n",
       "max      12.000000  80.656160  857.000000"
      ]
     },
     "execution_count": 8,
     "metadata": {},
     "output_type": "execute_result"
    }
   ],
   "source": [
    "# generate statistical description of the dataset\n",
    "df_master.describe()"
   ]
  },
  {
   "cell_type": "markdown",
   "metadata": {},
   "source": [
    "#### correlation value between avg temperature and units sold\n",
    "- description: pearson R correlation between average temperature and units sold.\n",
    "- insight\n",
    "    - 77% correlation shows there is a strong positive correlation between average temperature and units sold.\n",
    "    - 0.003 value for p shows that it is statistically significant"
   ]
  },
  {
   "cell_type": "code",
   "execution_count": 9,
   "metadata": {},
   "outputs": [
    {
     "data": {
      "text/plain": [
       "(0.7524213683950883, 0.004749848851924717)"
      ]
     },
     "execution_count": 9,
     "metadata": {},
     "output_type": "execute_result"
    }
   ],
   "source": [
    "# find correlation between average temperatures and units sold\n",
    "avgtemp = df_master['avgtemp']\n",
    "salesunits = df_master['units']\n",
    "\n",
    "# run and print pearsonR correlation analysis\n",
    "pearsonr_coefficient, p_value = pearsonr(avgtemp, salesunits)\n",
    "pearsonr(avgtemp, salesunits)"
   ]
  },
  {
   "cell_type": "markdown",
   "metadata": {},
   "source": [
    "### Use visualization tools for a data overview"
   ]
  },
  {
   "cell_type": "markdown",
   "metadata": {},
   "source": [
    "#### scatter graph matrix of each attribute\n",
    "- description: a matrix plot of each variable against every other variable in the dataset\n",
    "- insight: insight is shown in close-up for each meaningful graphs below."
   ]
  },
  {
   "cell_type": "code",
   "execution_count": 10,
   "metadata": {},
   "outputs": [
    {
     "data": {
      "text/plain": [
       "<seaborn.axisgrid.PairGrid at 0x7fd22d7da590>"
      ]
     },
     "execution_count": 10,
     "metadata": {},
     "output_type": "execute_result"
    },
    {
     "data": {
      "image/png": "[encoded data removed]",
      "text/plain": [
       "<Figure size 540x540 with 12 Axes>"
      ]
     },
     "metadata": {},
     "output_type": "display_data"
    }
   ],
   "source": [
    "# plot a matrix of visualizations of the dataset\n",
    "seaborn.pairplot(df_master)"
   ]
  },
  {
   "cell_type": "markdown",
   "metadata": {},
   "source": [
    "#### average temperature vs sales month\n",
    "- description: average temperature plotted over sales months.\n",
    "- insight: average temperature is highest in the mid-year months."
   ]
  },
  {
   "cell_type": "code",
   "execution_count": 11,
   "metadata": {
    "scrolled": true
   },
   "outputs": [
    {
     "data": {
      "text/plain": [
       "<matplotlib.axes._subplots.AxesSubplot at 0x7fd229007dd0>"
      ]
     },
     "execution_count": 11,
     "metadata": {},
     "output_type": "execute_result"
    },
    {
     "data": {
      "image/png": "[encoded data removed]",
      "text/plain": [
       "<Figure size 432x288 with 1 Axes>"
      ]
     },
     "metadata": {},
     "output_type": "display_data"
    }
   ],
   "source": [
    " # add one to index since months are 1-12, not 0-11\n",
    "df_master['avgtemp'].index +=1\n",
    "# line plot of average temperatures\n",
    "df_master['avgtemp'].plot()\n",
    "# scatter plot of average temperature by sales month, with regression line fit\n",
    "seaborn.regplot(df_master['sales_month'], df_master['avgtemp'])"
   ]
  },
  {
   "cell_type": "markdown",
   "metadata": {},
   "source": [
    "#### units vs sales month\n",
    "- description: units sold by each sales month.\n",
    "- insight: units sold are highest in the mid-year months."
   ]
  },
  {
   "cell_type": "code",
   "execution_count": 12,
   "metadata": {
    "scrolled": true
   },
   "outputs": [
    {
     "data": {
      "text/plain": [
       "<matplotlib.axes._subplots.AxesSubplot at 0x7fd228f04810>"
      ]
     },
     "execution_count": 12,
     "metadata": {},
     "output_type": "execute_result"
    },
    {
     "data": {
      "image/png": "[encoded data removed]",
      "text/plain": [
       "<Figure size 432x288 with 1 Axes>"
      ]
     },
     "metadata": {},
     "output_type": "display_data"
    }
   ],
   "source": [
    " # add one to index since months are 1-12, not 0-11\n",
    "df_master['units'].index +=1\n",
    "# line plot of units sold\n",
    "df_master['units'].plot()\n",
    "# scatter plot of units sold by sales month, with regression line fit\n",
    "seaborn.regplot(df_master['sales_month'], df_master['units'])"
   ]
  },
  {
   "cell_type": "markdown",
   "metadata": {},
   "source": [
    "#### average temperature vs units sold\n",
    "- description: scatter plot with a linear regression line and model fit of units sold by average temperature.\n",
    "- insight: as average temperature increases the units sold increases."
   ]
  },
  {
   "cell_type": "code",
   "execution_count": 13,
   "metadata": {},
   "outputs": [
    {
     "data": {
      "text/plain": [
       "<matplotlib.axes._subplots.AxesSubplot at 0x7fd2282818d0>"
      ]
     },
     "execution_count": 13,
     "metadata": {},
     "output_type": "execute_result"
    },
    {
     "data": {
      "image/png": "[encoded data removed]",
      "text/plain": [
       "<Figure size 432x288 with 1 Axes>"
      ]
     },
     "metadata": {},
     "output_type": "display_data"
    }
   ],
   "source": [
    "# scatter plot of units sold by average temperature, with regression line fit\n",
    "seaborn.regplot(df_master['units'], df_master['avgtemp'])"
   ]
  },
  {
   "cell_type": "markdown",
   "metadata": {},
   "source": [
    "## Conclusion"
   ]
  },
  {
   "cell_type": "markdown",
   "metadata": {},
   "source": [
    "### Do higher temperatures increase icecream sales?\n",
    "Based on our analysis using correlation and visualization; We can conclude it is likely that higher temperatures increase ice cream sales. Seemingly, we should increase the production and distribution of our ice cream brands to retailers during the higher temperature months.\n",
    "\n",
    "A word of caution, correlation does not mean causation, however we did review the data from multiple angles and it looks good. We can increase the size of the data set over time (more years) to strengthen our conclusion."
   ]
  }
 ],
 "metadata": {
  "kernelspec": {
   "display_name": "Python 2",
   "language": "python",
   "name": "python2"
  },
  "language_info": {
   "codemirror_mode": {
    "name": "ipython",
    "version": 2
   },
   "file_extension": ".py",
   "mimetype": "text/x-python",
   "name": "python",
   "nbconvert_exporter": "python",
   "pygments_lexer": "ipython2",
   "version": "2.7.15"
  }
 },
 "nbformat": 4,
 "nbformat_minor": 2
}
