{
 "cells": [
  {
   "cell_type": "markdown",
   "metadata": {},
   "source": [
    "# Talking Shop 2: Can we motivate more students to be more envionmentally conscious?"
   ]
  },
  {
   "cell_type": "markdown",
   "metadata": {},
   "source": [
    "## Install Libraries\n",
    "Install required python libraries (uncomment as needed)"
   ]
  },
  {
   "cell_type": "code",
   "execution_count": 1,
   "metadata": {},
   "outputs": [],
   "source": [
    "# ! pip install ipython-sql # SQL magic function\n",
    "# ! pip install pandas\n",
    "# ! pip install sqlalchemy\n",
    "# ! pip install pyhive[presto]\n",
    "# ! pip install pyhive[hive]\n",
    "# ! pip install ggplot"
   ]
  },
  {
   "cell_type": "markdown",
   "metadata": {},
   "source": [
    "## Import Libraries\n",
    "Import the libraries used throughout the rest of this notebook."
   ]
  },
  {
   "cell_type": "code",
   "execution_count": 2,
   "metadata": {},
   "outputs": [],
   "source": [
    "# import data analysis library\n",
    "import pandas\n",
    "# import numpy\n",
    "import numpy\n",
    "# import visualization library; plotting module\n",
    "import matplotlib.pyplot as pyplot\n",
    "# import visualization library;\n",
    "import seaborn\n",
    "# import a database toolkit library; query engine module\n",
    "from sqlalchemy.engine import create_engine\n",
    "# import scipy science toolkit; pearsonR correlation module\n",
    "from scipy.stats.stats import pearsonr\n",
    "# import Ipython display library; html display module\n",
    "from IPython.display import display_html\n",
    "# import Kmeans algorithm\n",
    "from sklearn.cluster import KMeans\n",
    "# import PCA algorithm\n",
    "from sklearn.decomposition import PCA"
   ]
  },
  {
   "cell_type": "markdown",
   "metadata": {},
   "source": [
    "## Create data connection\n",
    "Next, establish a connection to autodaas data platform"
   ]
  },
  {
   "cell_type": "code",
   "execution_count": 3,
   "metadata": {},
   "outputs": [],
   "source": [
    "# create a presto engine using the sqlalchemy create_engine \n",
    "engine = create_engine('presto://localhost:8080/hive')"
   ]
  },
  {
   "cell_type": "markdown",
   "metadata": {},
   "source": [
    "### List and preview the datasets\n",
    "Then, we review our datasets before beginning the analysis.\n",
    "- create variables for reference throughout the notebook for each dataset\n",
    "- convert the data tables into dataframes by querying each dataset using SQL.\n",
    "- preview each dataset to look at the columns and data in each dataset."
   ]
  },
  {
   "cell_type": "markdown",
   "metadata": {},
   "source": [
    "#### place into variables and convert queries into dataframes"
   ]
  },
  {
   "cell_type": "code",
   "execution_count": 4,
   "metadata": {
    "scrolled": true
   },
   "outputs": [
    {
     "name": "stdout",
     "output_type": "stream",
     "text": [
      "select * from adviews.campaign_participant\n",
      "select * from adviews.campaigns_envtproject_student\n"
     ]
    }
   ],
   "source": [
    "# place dataset names into variables\n",
    "envtproject_campaignparticipants = 'adviews.campaign_participant'\n",
    "envtproject_student = 'adviews.campaigns_envtproject_student'\n",
    "\n",
    "# create sql statements\n",
    "sql_envtproject_campaignparticipants = \"\"\"select * from %s\"\"\" % (envtproject_campaignparticipants)\n",
    "sql_envtproject_student = \"\"\"select * from %s\"\"\" % (envtproject_student)\n",
    "\n",
    "# query each dataset into a dataframe (python table structure) using pandas read_sql function\n",
    "df_envtproject_campaignparticipants = pandas.read_sql(sql_envtproject_campaignparticipants, engine)\n",
    "df_envtproject_student = pandas.read_sql(sql_envtproject_student, engine)\n",
    "\n",
    "print sql_envtproject_campaignparticipants + '\\n' +  sql_envtproject_student"
   ]
  },
  {
   "cell_type": "markdown",
   "metadata": {},
   "source": [
    "#### display dataset previews"
   ]
  },
  {
   "cell_type": "code",
   "execution_count": 5,
   "metadata": {},
   "outputs": [
    {
     "data": {
      "text/html": [
       "<style  type=\"text/css\" >\n",
       "</style>  \n",
       "<table id=\"T_0b4c358a_9f00_11e8_a275_080027b16c44\" style='display:inline'><caption>adviews.campaign_participant</caption> \n",
       "<thead>    <tr> \n",
       "        <th class=\"blank level0\" ></th> \n",
       "        <th class=\"col_heading level0 col0\" >campaign_id</th> \n",
       "        <th class=\"col_heading level0 col1\" >campaign_descr</th> \n",
       "        <th class=\"col_heading level0 col2\" >month_name</th> \n",
       "        <th class=\"col_heading level0 col3\" >university_name</th> \n",
       "        <th class=\"col_heading level0 col4\" >room_id</th> \n",
       "        <th class=\"col_heading level0 col5\" >n</th> \n",
       "    </tr></thead> \n",
       "<tbody>    <tr> \n",
       "        <th id=\"T_0b4c358a_9f00_11e8_a275_080027b16c44level0_row0\" class=\"row_heading level0 row0\" >0</th> \n",
       "        <td id=\"T_0b4c358a_9f00_11e8_a275_080027b16c44row0_col0\" class=\"data row0 col0\" >1</td> \n",
       "        <td id=\"T_0b4c358a_9f00_11e8_a275_080027b16c44row0_col1\" class=\"data row0 col1\" >Electric</td> \n",
       "        <td id=\"T_0b4c358a_9f00_11e8_a275_080027b16c44row0_col2\" class=\"data row0 col2\" >January</td> \n",
       "        <td id=\"T_0b4c358a_9f00_11e8_a275_080027b16c44row0_col3\" class=\"data row0 col3\" >University One</td> \n",
       "        <td id=\"T_0b4c358a_9f00_11e8_a275_080027b16c44row0_col4\" class=\"data row0 col4\" >100</td> \n",
       "        <td id=\"T_0b4c358a_9f00_11e8_a275_080027b16c44row0_col5\" class=\"data row0 col5\" >1</td> \n",
       "    </tr>    <tr> \n",
       "        <th id=\"T_0b4c358a_9f00_11e8_a275_080027b16c44level0_row1\" class=\"row_heading level0 row1\" >1</th> \n",
       "        <td id=\"T_0b4c358a_9f00_11e8_a275_080027b16c44row1_col0\" class=\"data row1 col0\" >1</td> \n",
       "        <td id=\"T_0b4c358a_9f00_11e8_a275_080027b16c44row1_col1\" class=\"data row1 col1\" >Electric</td> \n",
       "        <td id=\"T_0b4c358a_9f00_11e8_a275_080027b16c44row1_col2\" class=\"data row1 col2\" >January</td> \n",
       "        <td id=\"T_0b4c358a_9f00_11e8_a275_080027b16c44row1_col3\" class=\"data row1 col3\" >University One</td> \n",
       "        <td id=\"T_0b4c358a_9f00_11e8_a275_080027b16c44row1_col4\" class=\"data row1 col4\" >98</td> \n",
       "        <td id=\"T_0b4c358a_9f00_11e8_a275_080027b16c44row1_col5\" class=\"data row1 col5\" >1</td> \n",
       "    </tr>    <tr> \n",
       "        <th id=\"T_0b4c358a_9f00_11e8_a275_080027b16c44level0_row2\" class=\"row_heading level0 row2\" >2</th> \n",
       "        <td id=\"T_0b4c358a_9f00_11e8_a275_080027b16c44row2_col0\" class=\"data row2 col0\" >1</td> \n",
       "        <td id=\"T_0b4c358a_9f00_11e8_a275_080027b16c44row2_col1\" class=\"data row2 col1\" >Electric</td> \n",
       "        <td id=\"T_0b4c358a_9f00_11e8_a275_080027b16c44row2_col2\" class=\"data row2 col2\" >January</td> \n",
       "        <td id=\"T_0b4c358a_9f00_11e8_a275_080027b16c44row2_col3\" class=\"data row2 col3\" >University One</td> \n",
       "        <td id=\"T_0b4c358a_9f00_11e8_a275_080027b16c44row2_col4\" class=\"data row2 col4\" >88</td> \n",
       "        <td id=\"T_0b4c358a_9f00_11e8_a275_080027b16c44row2_col5\" class=\"data row2 col5\" >1</td> \n",
       "    </tr></tbody> \n",
       "</table> <style  type=\"text/css\" >\n",
       "</style>  \n",
       "<table id=\"T_0b4cb262_9f00_11e8_a275_080027b16c44\" style='display:inline'><caption>adviews.campaigns_envtproject_student</caption> \n",
       "<thead>    <tr> \n",
       "        <th class=\"blank level0\" ></th> \n",
       "        <th class=\"col_heading level0 col0\" >student_email</th> \n",
       "        <th class=\"col_heading level0 col1\" >room_id</th> \n",
       "    </tr></thead> \n",
       "<tbody>    <tr> \n",
       "        <th id=\"T_0b4cb262_9f00_11e8_a275_080027b16c44level0_row0\" class=\"row_heading level0 row0\" >0</th> \n",
       "        <td id=\"T_0b4cb262_9f00_11e8_a275_080027b16c44row0_col0\" class=\"data row0 col0\" >sshowt0@hugedomains.com</td> \n",
       "        <td id=\"T_0b4cb262_9f00_11e8_a275_080027b16c44row0_col1\" class=\"data row0 col1\" >1</td> \n",
       "    </tr>    <tr> \n",
       "        <th id=\"T_0b4cb262_9f00_11e8_a275_080027b16c44level0_row1\" class=\"row_heading level0 row1\" >1</th> \n",
       "        <td id=\"T_0b4cb262_9f00_11e8_a275_080027b16c44row1_col0\" class=\"data row1 col0\" >sbirkby2s@who.int</td> \n",
       "        <td id=\"T_0b4cb262_9f00_11e8_a275_080027b16c44row1_col1\" class=\"data row1 col1\" >1</td> \n",
       "    </tr>    <tr> \n",
       "        <th id=\"T_0b4cb262_9f00_11e8_a275_080027b16c44level0_row2\" class=\"row_heading level0 row2\" >2</th> \n",
       "        <td id=\"T_0b4cb262_9f00_11e8_a275_080027b16c44row2_col0\" class=\"data row2 col0\" >vkeech1@noaa.gov</td> \n",
       "        <td id=\"T_0b4cb262_9f00_11e8_a275_080027b16c44row2_col1\" class=\"data row2 col1\" >2</td> \n",
       "    </tr></tbody> \n",
       "</table> "
      ]
     },
     "metadata": {},
     "output_type": "display_data"
    }
   ],
   "source": [
    "# add a participation count (1 for each response - could be more in the future)\n",
    "df_envtproject_campaignparticipants['n'] = 1\n",
    "# display dataframe previews inline\n",
    "df1 = df_envtproject_campaignparticipants.head(3) \\\n",
    "    .style.set_table_attributes(\"style='display:inline'\").set_caption(envtproject_campaignparticipants)\n",
    "df2 = df_envtproject_student.head(3) \\\n",
    "    .style.set_table_attributes(\"style='display:inline'\").set_caption(envtproject_student)\n",
    "display_html(\n",
    "    df1._repr_html_()\\\n",
    "    +df2._repr_html_(), raw=True)"
   ]
  },
  {
   "cell_type": "markdown",
   "metadata": {},
   "source": [
    "## Classify and Cluster the data"
   ]
  },
  {
   "cell_type": "markdown",
   "metadata": {},
   "source": [
    "### Convert data into a matrix"
   ]
  },
  {
   "cell_type": "code",
   "execution_count": 6,
   "metadata": {
    "scrolled": false
   },
   "outputs": [
    {
     "data": {
      "text/html": [
       "<div>\n",
       "<style scoped>\n",
       "    .dataframe tbody tr th:only-of-type {\n",
       "        vertical-align: middle;\n",
       "    }\n",
       "\n",
       "    .dataframe tbody tr th {\n",
       "        vertical-align: top;\n",
       "    }\n",
       "\n",
       "    .dataframe thead th {\n",
       "        text-align: right;\n",
       "    }\n",
       "</style>\n",
       "<table border=\"1\" class=\"dataframe\">\n",
       "  <thead>\n",
       "    <tr style=\"text-align: right;\">\n",
       "      <th>campaign_id</th>\n",
       "      <th>1</th>\n",
       "      <th>2</th>\n",
       "      <th>3</th>\n",
       "      <th>4</th>\n",
       "      <th>5</th>\n",
       "      <th>6</th>\n",
       "      <th>7</th>\n",
       "      <th>8</th>\n",
       "      <th>9</th>\n",
       "      <th>10</th>\n",
       "      <th>...</th>\n",
       "      <th>23</th>\n",
       "      <th>24</th>\n",
       "      <th>25</th>\n",
       "      <th>26</th>\n",
       "      <th>27</th>\n",
       "      <th>28</th>\n",
       "      <th>29</th>\n",
       "      <th>30</th>\n",
       "      <th>31</th>\n",
       "      <th>32</th>\n",
       "    </tr>\n",
       "    <tr>\n",
       "      <th>room_id</th>\n",
       "      <th></th>\n",
       "      <th></th>\n",
       "      <th></th>\n",
       "      <th></th>\n",
       "      <th></th>\n",
       "      <th></th>\n",
       "      <th></th>\n",
       "      <th></th>\n",
       "      <th></th>\n",
       "      <th></th>\n",
       "      <th></th>\n",
       "      <th></th>\n",
       "      <th></th>\n",
       "      <th></th>\n",
       "      <th></th>\n",
       "      <th></th>\n",
       "      <th></th>\n",
       "      <th></th>\n",
       "      <th></th>\n",
       "      <th></th>\n",
       "      <th></th>\n",
       "    </tr>\n",
       "  </thead>\n",
       "  <tbody>\n",
       "    <tr>\n",
       "      <th>1</th>\n",
       "      <td>NaN</td>\n",
       "      <td>1.0</td>\n",
       "      <td>NaN</td>\n",
       "      <td>NaN</td>\n",
       "      <td>NaN</td>\n",
       "      <td>NaN</td>\n",
       "      <td>NaN</td>\n",
       "      <td>NaN</td>\n",
       "      <td>NaN</td>\n",
       "      <td>NaN</td>\n",
       "      <td>...</td>\n",
       "      <td>NaN</td>\n",
       "      <td>1.0</td>\n",
       "      <td>NaN</td>\n",
       "      <td>NaN</td>\n",
       "      <td>NaN</td>\n",
       "      <td>NaN</td>\n",
       "      <td>NaN</td>\n",
       "      <td>NaN</td>\n",
       "      <td>NaN</td>\n",
       "      <td>NaN</td>\n",
       "    </tr>\n",
       "    <tr>\n",
       "      <th>2</th>\n",
       "      <td>NaN</td>\n",
       "      <td>NaN</td>\n",
       "      <td>NaN</td>\n",
       "      <td>NaN</td>\n",
       "      <td>NaN</td>\n",
       "      <td>NaN</td>\n",
       "      <td>NaN</td>\n",
       "      <td>NaN</td>\n",
       "      <td>NaN</td>\n",
       "      <td>NaN</td>\n",
       "      <td>...</td>\n",
       "      <td>NaN</td>\n",
       "      <td>1.0</td>\n",
       "      <td>NaN</td>\n",
       "      <td>1.0</td>\n",
       "      <td>NaN</td>\n",
       "      <td>NaN</td>\n",
       "      <td>NaN</td>\n",
       "      <td>NaN</td>\n",
       "      <td>NaN</td>\n",
       "      <td>NaN</td>\n",
       "    </tr>\n",
       "    <tr>\n",
       "      <th>3</th>\n",
       "      <td>NaN</td>\n",
       "      <td>NaN</td>\n",
       "      <td>NaN</td>\n",
       "      <td>NaN</td>\n",
       "      <td>NaN</td>\n",
       "      <td>NaN</td>\n",
       "      <td>NaN</td>\n",
       "      <td>NaN</td>\n",
       "      <td>NaN</td>\n",
       "      <td>NaN</td>\n",
       "      <td>...</td>\n",
       "      <td>NaN</td>\n",
       "      <td>NaN</td>\n",
       "      <td>NaN</td>\n",
       "      <td>NaN</td>\n",
       "      <td>NaN</td>\n",
       "      <td>NaN</td>\n",
       "      <td>NaN</td>\n",
       "      <td>NaN</td>\n",
       "      <td>1.0</td>\n",
       "      <td>NaN</td>\n",
       "    </tr>\n",
       "  </tbody>\n",
       "</table>\n",
       "<p>3 rows × 32 columns</p>\n",
       "</div>"
      ],
      "text/plain": [
       "campaign_id  1    2   3   4   5   6   7   8   9   10 ...  23   24  25   26  \\\n",
       "room_id                                              ...                     \n",
       "1           NaN  1.0 NaN NaN NaN NaN NaN NaN NaN NaN ... NaN  1.0 NaN  NaN   \n",
       "2           NaN  NaN NaN NaN NaN NaN NaN NaN NaN NaN ... NaN  1.0 NaN  1.0   \n",
       "3           NaN  NaN NaN NaN NaN NaN NaN NaN NaN NaN ... NaN  NaN NaN  NaN   \n",
       "\n",
       "campaign_id  27  28  29  30   31  32  \n",
       "room_id                               \n",
       "1           NaN NaN NaN NaN  NaN NaN  \n",
       "2           NaN NaN NaN NaN  NaN NaN  \n",
       "3           NaN NaN NaN NaN  1.0 NaN  \n",
       "\n",
       "[3 rows x 32 columns]"
      ]
     },
     "execution_count": 6,
     "metadata": {},
     "output_type": "execute_result"
    }
   ],
   "source": [
    "# create a pivot table room_id vs campaign_id\n",
    "matrix = df_envtproject_campaignparticipants.pivot_table(index=['room_id'], columns=['campaign_id'], values='n')\n",
    "matrix.head(3)"
   ]
  },
  {
   "cell_type": "code",
   "execution_count": 7,
   "metadata": {
    "scrolled": true
   },
   "outputs": [],
   "source": [
    "# replace NaN with 0 for rooms and campaigns that we do not have data for (did not participate)\n",
    "matrix = matrix.fillna(0).reset_index()\n",
    "matrix.head(3)\n",
    "x_cols = matrix.columns[1:]"
   ]
  },
  {
   "cell_type": "markdown",
   "metadata": {},
   "source": [
    "### Cluster the data"
   ]
  },
  {
   "cell_type": "markdown",
   "metadata": {},
   "source": [
    "#### Set two variables\n",
    "- random state for use in algorithms (to allow for repeated results)\n",
    "- number of clusters for the analysis"
   ]
  },
  {
   "cell_type": "code",
   "execution_count": 8,
   "metadata": {},
   "outputs": [],
   "source": [
    "random_state = 9\n",
    "num_groups = 3"
   ]
  },
  {
   "cell_type": "markdown",
   "metadata": {},
   "source": [
    "#### Use Kmeans algorithm to cluster data in to 3 groups [0-2]"
   ]
  },
  {
   "cell_type": "code",
   "execution_count": 9,
   "metadata": {
    "scrolled": false
   },
   "outputs": [
    {
     "data": {
      "text/html": [
       "<div>\n",
       "<style scoped>\n",
       "    .dataframe tbody tr th:only-of-type {\n",
       "        vertical-align: middle;\n",
       "    }\n",
       "\n",
       "    .dataframe tbody tr th {\n",
       "        vertical-align: top;\n",
       "    }\n",
       "\n",
       "    .dataframe thead th {\n",
       "        text-align: right;\n",
       "    }\n",
       "</style>\n",
       "<table border=\"1\" class=\"dataframe\">\n",
       "  <thead>\n",
       "    <tr style=\"text-align: right;\">\n",
       "      <th>campaign_id</th>\n",
       "      <th>room_id</th>\n",
       "      <th>1</th>\n",
       "      <th>2</th>\n",
       "      <th>3</th>\n",
       "      <th>4</th>\n",
       "      <th>5</th>\n",
       "      <th>6</th>\n",
       "      <th>7</th>\n",
       "      <th>8</th>\n",
       "      <th>9</th>\n",
       "      <th>...</th>\n",
       "      <th>24</th>\n",
       "      <th>25</th>\n",
       "      <th>26</th>\n",
       "      <th>27</th>\n",
       "      <th>28</th>\n",
       "      <th>29</th>\n",
       "      <th>30</th>\n",
       "      <th>31</th>\n",
       "      <th>32</th>\n",
       "      <th>cluster</th>\n",
       "    </tr>\n",
       "  </thead>\n",
       "  <tbody>\n",
       "    <tr>\n",
       "      <th>0</th>\n",
       "      <td>1</td>\n",
       "      <td>0.0</td>\n",
       "      <td>1.0</td>\n",
       "      <td>0.0</td>\n",
       "      <td>0.0</td>\n",
       "      <td>0.0</td>\n",
       "      <td>0.0</td>\n",
       "      <td>0.0</td>\n",
       "      <td>0.0</td>\n",
       "      <td>0.0</td>\n",
       "      <td>...</td>\n",
       "      <td>1.0</td>\n",
       "      <td>0.0</td>\n",
       "      <td>0.0</td>\n",
       "      <td>0.0</td>\n",
       "      <td>0.0</td>\n",
       "      <td>0.0</td>\n",
       "      <td>0.0</td>\n",
       "      <td>0.0</td>\n",
       "      <td>0.0</td>\n",
       "      <td>0</td>\n",
       "    </tr>\n",
       "    <tr>\n",
       "      <th>1</th>\n",
       "      <td>2</td>\n",
       "      <td>0.0</td>\n",
       "      <td>0.0</td>\n",
       "      <td>0.0</td>\n",
       "      <td>0.0</td>\n",
       "      <td>0.0</td>\n",
       "      <td>0.0</td>\n",
       "      <td>0.0</td>\n",
       "      <td>0.0</td>\n",
       "      <td>0.0</td>\n",
       "      <td>...</td>\n",
       "      <td>1.0</td>\n",
       "      <td>0.0</td>\n",
       "      <td>1.0</td>\n",
       "      <td>0.0</td>\n",
       "      <td>0.0</td>\n",
       "      <td>0.0</td>\n",
       "      <td>0.0</td>\n",
       "      <td>0.0</td>\n",
       "      <td>0.0</td>\n",
       "      <td>0</td>\n",
       "    </tr>\n",
       "    <tr>\n",
       "      <th>2</th>\n",
       "      <td>3</td>\n",
       "      <td>0.0</td>\n",
       "      <td>0.0</td>\n",
       "      <td>0.0</td>\n",
       "      <td>0.0</td>\n",
       "      <td>0.0</td>\n",
       "      <td>0.0</td>\n",
       "      <td>0.0</td>\n",
       "      <td>0.0</td>\n",
       "      <td>0.0</td>\n",
       "      <td>...</td>\n",
       "      <td>0.0</td>\n",
       "      <td>0.0</td>\n",
       "      <td>0.0</td>\n",
       "      <td>0.0</td>\n",
       "      <td>0.0</td>\n",
       "      <td>0.0</td>\n",
       "      <td>0.0</td>\n",
       "      <td>1.0</td>\n",
       "      <td>0.0</td>\n",
       "      <td>2</td>\n",
       "    </tr>\n",
       "    <tr>\n",
       "      <th>3</th>\n",
       "      <td>4</td>\n",
       "      <td>0.0</td>\n",
       "      <td>0.0</td>\n",
       "      <td>0.0</td>\n",
       "      <td>0.0</td>\n",
       "      <td>0.0</td>\n",
       "      <td>0.0</td>\n",
       "      <td>1.0</td>\n",
       "      <td>0.0</td>\n",
       "      <td>0.0</td>\n",
       "      <td>...</td>\n",
       "      <td>0.0</td>\n",
       "      <td>0.0</td>\n",
       "      <td>0.0</td>\n",
       "      <td>0.0</td>\n",
       "      <td>0.0</td>\n",
       "      <td>1.0</td>\n",
       "      <td>1.0</td>\n",
       "      <td>0.0</td>\n",
       "      <td>0.0</td>\n",
       "      <td>1</td>\n",
       "    </tr>\n",
       "    <tr>\n",
       "      <th>4</th>\n",
       "      <td>5</td>\n",
       "      <td>0.0</td>\n",
       "      <td>0.0</td>\n",
       "      <td>0.0</td>\n",
       "      <td>0.0</td>\n",
       "      <td>0.0</td>\n",
       "      <td>0.0</td>\n",
       "      <td>0.0</td>\n",
       "      <td>1.0</td>\n",
       "      <td>0.0</td>\n",
       "      <td>...</td>\n",
       "      <td>0.0</td>\n",
       "      <td>0.0</td>\n",
       "      <td>0.0</td>\n",
       "      <td>0.0</td>\n",
       "      <td>0.0</td>\n",
       "      <td>0.0</td>\n",
       "      <td>0.0</td>\n",
       "      <td>0.0</td>\n",
       "      <td>0.0</td>\n",
       "      <td>1</td>\n",
       "    </tr>\n",
       "    <tr>\n",
       "      <th>5</th>\n",
       "      <td>6</td>\n",
       "      <td>0.0</td>\n",
       "      <td>0.0</td>\n",
       "      <td>0.0</td>\n",
       "      <td>0.0</td>\n",
       "      <td>0.0</td>\n",
       "      <td>1.0</td>\n",
       "      <td>0.0</td>\n",
       "      <td>0.0</td>\n",
       "      <td>0.0</td>\n",
       "      <td>...</td>\n",
       "      <td>0.0</td>\n",
       "      <td>0.0</td>\n",
       "      <td>0.0</td>\n",
       "      <td>0.0</td>\n",
       "      <td>0.0</td>\n",
       "      <td>0.0</td>\n",
       "      <td>0.0</td>\n",
       "      <td>1.0</td>\n",
       "      <td>0.0</td>\n",
       "      <td>2</td>\n",
       "    </tr>\n",
       "    <tr>\n",
       "      <th>6</th>\n",
       "      <td>7</td>\n",
       "      <td>0.0</td>\n",
       "      <td>0.0</td>\n",
       "      <td>0.0</td>\n",
       "      <td>0.0</td>\n",
       "      <td>0.0</td>\n",
       "      <td>0.0</td>\n",
       "      <td>0.0</td>\n",
       "      <td>0.0</td>\n",
       "      <td>0.0</td>\n",
       "      <td>...</td>\n",
       "      <td>0.0</td>\n",
       "      <td>1.0</td>\n",
       "      <td>0.0</td>\n",
       "      <td>0.0</td>\n",
       "      <td>0.0</td>\n",
       "      <td>0.0</td>\n",
       "      <td>0.0</td>\n",
       "      <td>0.0</td>\n",
       "      <td>0.0</td>\n",
       "      <td>2</td>\n",
       "    </tr>\n",
       "    <tr>\n",
       "      <th>7</th>\n",
       "      <td>8</td>\n",
       "      <td>0.0</td>\n",
       "      <td>0.0</td>\n",
       "      <td>0.0</td>\n",
       "      <td>0.0</td>\n",
       "      <td>0.0</td>\n",
       "      <td>0.0</td>\n",
       "      <td>0.0</td>\n",
       "      <td>0.0</td>\n",
       "      <td>0.0</td>\n",
       "      <td>...</td>\n",
       "      <td>0.0</td>\n",
       "      <td>0.0</td>\n",
       "      <td>0.0</td>\n",
       "      <td>0.0</td>\n",
       "      <td>0.0</td>\n",
       "      <td>0.0</td>\n",
       "      <td>0.0</td>\n",
       "      <td>0.0</td>\n",
       "      <td>0.0</td>\n",
       "      <td>2</td>\n",
       "    </tr>\n",
       "    <tr>\n",
       "      <th>8</th>\n",
       "      <td>9</td>\n",
       "      <td>0.0</td>\n",
       "      <td>1.0</td>\n",
       "      <td>0.0</td>\n",
       "      <td>0.0</td>\n",
       "      <td>0.0</td>\n",
       "      <td>0.0</td>\n",
       "      <td>0.0</td>\n",
       "      <td>0.0</td>\n",
       "      <td>0.0</td>\n",
       "      <td>...</td>\n",
       "      <td>0.0</td>\n",
       "      <td>0.0</td>\n",
       "      <td>1.0</td>\n",
       "      <td>0.0</td>\n",
       "      <td>0.0</td>\n",
       "      <td>0.0</td>\n",
       "      <td>0.0</td>\n",
       "      <td>0.0</td>\n",
       "      <td>0.0</td>\n",
       "      <td>0</td>\n",
       "    </tr>\n",
       "    <tr>\n",
       "      <th>9</th>\n",
       "      <td>10</td>\n",
       "      <td>0.0</td>\n",
       "      <td>0.0</td>\n",
       "      <td>0.0</td>\n",
       "      <td>0.0</td>\n",
       "      <td>0.0</td>\n",
       "      <td>0.0</td>\n",
       "      <td>0.0</td>\n",
       "      <td>1.0</td>\n",
       "      <td>0.0</td>\n",
       "      <td>...</td>\n",
       "      <td>0.0</td>\n",
       "      <td>0.0</td>\n",
       "      <td>0.0</td>\n",
       "      <td>0.0</td>\n",
       "      <td>0.0</td>\n",
       "      <td>0.0</td>\n",
       "      <td>1.0</td>\n",
       "      <td>0.0</td>\n",
       "      <td>0.0</td>\n",
       "      <td>1</td>\n",
       "    </tr>\n",
       "  </tbody>\n",
       "</table>\n",
       "<p>10 rows × 34 columns</p>\n",
       "</div>"
      ],
      "text/plain": [
       "campaign_id  room_id    1    2    3    4    5    6    7    8    9   ...     \\\n",
       "0                  1  0.0  1.0  0.0  0.0  0.0  0.0  0.0  0.0  0.0   ...      \n",
       "1                  2  0.0  0.0  0.0  0.0  0.0  0.0  0.0  0.0  0.0   ...      \n",
       "2                  3  0.0  0.0  0.0  0.0  0.0  0.0  0.0  0.0  0.0   ...      \n",
       "3                  4  0.0  0.0  0.0  0.0  0.0  0.0  1.0  0.0  0.0   ...      \n",
       "4                  5  0.0  0.0  0.0  0.0  0.0  0.0  0.0  1.0  0.0   ...      \n",
       "5                  6  0.0  0.0  0.0  0.0  0.0  1.0  0.0  0.0  0.0   ...      \n",
       "6                  7  0.0  0.0  0.0  0.0  0.0  0.0  0.0  0.0  0.0   ...      \n",
       "7                  8  0.0  0.0  0.0  0.0  0.0  0.0  0.0  0.0  0.0   ...      \n",
       "8                  9  0.0  1.0  0.0  0.0  0.0  0.0  0.0  0.0  0.0   ...      \n",
       "9                 10  0.0  0.0  0.0  0.0  0.0  0.0  0.0  1.0  0.0   ...      \n",
       "\n",
       "campaign_id   24   25   26   27   28   29   30   31   32  cluster  \n",
       "0            1.0  0.0  0.0  0.0  0.0  0.0  0.0  0.0  0.0        0  \n",
       "1            1.0  0.0  1.0  0.0  0.0  0.0  0.0  0.0  0.0        0  \n",
       "2            0.0  0.0  0.0  0.0  0.0  0.0  0.0  1.0  0.0        2  \n",
       "3            0.0  0.0  0.0  0.0  0.0  1.0  1.0  0.0  0.0        1  \n",
       "4            0.0  0.0  0.0  0.0  0.0  0.0  0.0  0.0  0.0        1  \n",
       "5            0.0  0.0  0.0  0.0  0.0  0.0  0.0  1.0  0.0        2  \n",
       "6            0.0  1.0  0.0  0.0  0.0  0.0  0.0  0.0  0.0        2  \n",
       "7            0.0  0.0  0.0  0.0  0.0  0.0  0.0  0.0  0.0        2  \n",
       "8            0.0  0.0  1.0  0.0  0.0  0.0  0.0  0.0  0.0        0  \n",
       "9            0.0  0.0  0.0  0.0  0.0  0.0  1.0  0.0  0.0        1  \n",
       "\n",
       "[10 rows x 34 columns]"
      ]
     },
     "execution_count": 9,
     "metadata": {},
     "output_type": "execute_result"
    }
   ],
   "source": [
    "clusterMatrix = matrix\n",
    "cluster = KMeans(n_clusters=num_groups, random_state=random_state)\n",
    "clusterMatrix['cluster'] = cluster.fit_predict(clusterMatrix[clusterMatrix.columns[2:]])\n",
    "clusterMatrix.head(10)"
   ]
  },
  {
   "cell_type": "markdown",
   "metadata": {},
   "source": [
    "#### Review cluster counts"
   ]
  },
  {
   "cell_type": "code",
   "execution_count": 10,
   "metadata": {
    "scrolled": true
   },
   "outputs": [
    {
     "data": {
      "text/html": [
       "<div>\n",
       "<style scoped>\n",
       "    .dataframe tbody tr th:only-of-type {\n",
       "        vertical-align: middle;\n",
       "    }\n",
       "\n",
       "    .dataframe tbody tr th {\n",
       "        vertical-align: top;\n",
       "    }\n",
       "\n",
       "    .dataframe thead th {\n",
       "        text-align: right;\n",
       "    }\n",
       "</style>\n",
       "<table border=\"1\" class=\"dataframe\">\n",
       "  <thead>\n",
       "    <tr style=\"text-align: right;\">\n",
       "      <th></th>\n",
       "      <th>clusters</th>\n",
       "      <th>counts</th>\n",
       "    </tr>\n",
       "  </thead>\n",
       "  <tbody>\n",
       "    <tr>\n",
       "      <th>0</th>\n",
       "      <td>2</td>\n",
       "      <td>49</td>\n",
       "    </tr>\n",
       "    <tr>\n",
       "      <th>1</th>\n",
       "      <td>1</td>\n",
       "      <td>35</td>\n",
       "    </tr>\n",
       "    <tr>\n",
       "      <th>2</th>\n",
       "      <td>0</td>\n",
       "      <td>16</td>\n",
       "    </tr>\n",
       "  </tbody>\n",
       "</table>\n",
       "</div>"
      ],
      "text/plain": [
       "   clusters  counts\n",
       "0         2      49\n",
       "1         1      35\n",
       "2         0      16"
      ]
     },
     "execution_count": 10,
     "metadata": {},
     "output_type": "execute_result"
    }
   ],
   "source": [
    "# counts of participants in each cluster [0-4]\n",
    "clusterLabels = clusterMatrix.cluster.value_counts().rename_axis('clusters').reset_index(name='counts')\n",
    "clusterLabels"
   ]
  },
  {
   "cell_type": "markdown",
   "metadata": {},
   "source": [
    "#### Graph cluster counts"
   ]
  },
  {
   "cell_type": "code",
   "execution_count": 11,
   "metadata": {
    "scrolled": false
   },
   "outputs": [
    {
     "data": {
      "text/plain": [
       "<matplotlib.axes._subplots.AxesSubplot at 0x7fb10e04ed10>"
      ]
     },
     "execution_count": 11,
     "metadata": {},
     "output_type": "execute_result"
    },
    {
     "data": {
      "image/png": "[encoded data removed]",
      "text/plain": [
       "<Figure size 432x288 with 1 Axes>"
      ]
     },
     "metadata": {},
     "output_type": "display_data"
    }
   ],
   "source": [
    "seaborn.barplot(x='clusters', y='counts', data=clusterLabels)"
   ]
  },
  {
   "cell_type": "markdown",
   "metadata": {},
   "source": [
    "### Transform data for Visualization and Analysis"
   ]
  },
  {
   "cell_type": "markdown",
   "metadata": {},
   "source": [
    "#### Reduce dimensionality and create X and Y coordinates"
   ]
  },
  {
   "cell_type": "code",
   "execution_count": 12,
   "metadata": {},
   "outputs": [],
   "source": [
    "pca = PCA(n_components=2, random_state=random_state)\n",
    "\n",
    "clusterMatrix['x'] = pca.fit_transform(matrix[x_cols])[:,0]\n",
    "clusterMatrix['y'] = pca.fit_transform(matrix[x_cols])[:,1]\n",
    "clusterMatrix = clusterMatrix.reset_index()"
   ]
  },
  {
   "cell_type": "code",
   "execution_count": 13,
   "metadata": {},
   "outputs": [
    {
     "data": {
      "text/html": [
       "<div>\n",
       "<style scoped>\n",
       "    .dataframe tbody tr th:only-of-type {\n",
       "        vertical-align: middle;\n",
       "    }\n",
       "\n",
       "    .dataframe tbody tr th {\n",
       "        vertical-align: top;\n",
       "    }\n",
       "\n",
       "    .dataframe thead th {\n",
       "        text-align: right;\n",
       "    }\n",
       "</style>\n",
       "<table border=\"1\" class=\"dataframe\">\n",
       "  <thead>\n",
       "    <tr style=\"text-align: right;\">\n",
       "      <th>campaign_id</th>\n",
       "      <th>room_id</th>\n",
       "      <th>cluster</th>\n",
       "      <th>x</th>\n",
       "      <th>y</th>\n",
       "    </tr>\n",
       "  </thead>\n",
       "  <tbody>\n",
       "    <tr>\n",
       "      <th>0</th>\n",
       "      <td>1</td>\n",
       "      <td>0</td>\n",
       "      <td>-0.300227</td>\n",
       "      <td>0.829765</td>\n",
       "    </tr>\n",
       "    <tr>\n",
       "      <th>1</th>\n",
       "      <td>2</td>\n",
       "      <td>0</td>\n",
       "      <td>-0.461726</td>\n",
       "      <td>1.313485</td>\n",
       "    </tr>\n",
       "    <tr>\n",
       "      <th>2</th>\n",
       "      <td>3</td>\n",
       "      <td>2</td>\n",
       "      <td>-0.151666</td>\n",
       "      <td>-0.587844</td>\n",
       "    </tr>\n",
       "    <tr>\n",
       "      <th>3</th>\n",
       "      <td>4</td>\n",
       "      <td>1</td>\n",
       "      <td>1.079827</td>\n",
       "      <td>-0.007488</td>\n",
       "    </tr>\n",
       "    <tr>\n",
       "      <th>4</th>\n",
       "      <td>5</td>\n",
       "      <td>1</td>\n",
       "      <td>0.281381</td>\n",
       "      <td>0.075254</td>\n",
       "    </tr>\n",
       "  </tbody>\n",
       "</table>\n",
       "</div>"
      ],
      "text/plain": [
       "campaign_id  room_id  cluster         x         y\n",
       "0                  1        0 -0.300227  0.829765\n",
       "1                  2        0 -0.461726  1.313485\n",
       "2                  3        2 -0.151666 -0.587844\n",
       "3                  4        1  1.079827 -0.007488\n",
       "4                  5        1  0.281381  0.075254"
      ]
     },
     "execution_count": 13,
     "metadata": {},
     "output_type": "execute_result"
    }
   ],
   "source": [
    "room_clusters = matrix[['room_id', 'cluster', 'x', 'y']]\n",
    "room_clusters.head()"
   ]
  },
  {
   "cell_type": "markdown",
   "metadata": {},
   "source": [
    "#### Merge campaign participants and our room clusters to create a master analysis dataset"
   ]
  },
  {
   "cell_type": "code",
   "execution_count": 14,
   "metadata": {},
   "outputs": [
    {
     "data": {
      "text/html": [
       "<div>\n",
       "<style scoped>\n",
       "    .dataframe tbody tr th:only-of-type {\n",
       "        vertical-align: middle;\n",
       "    }\n",
       "\n",
       "    .dataframe tbody tr th {\n",
       "        vertical-align: top;\n",
       "    }\n",
       "\n",
       "    .dataframe thead th {\n",
       "        text-align: right;\n",
       "    }\n",
       "</style>\n",
       "<table border=\"1\" class=\"dataframe\">\n",
       "  <thead>\n",
       "    <tr style=\"text-align: right;\">\n",
       "      <th></th>\n",
       "      <th>campaign_id</th>\n",
       "      <th>campaign_descr</th>\n",
       "      <th>month_name</th>\n",
       "      <th>university_name</th>\n",
       "      <th>room_id</th>\n",
       "      <th>n</th>\n",
       "      <th>cluster</th>\n",
       "      <th>x</th>\n",
       "      <th>y</th>\n",
       "    </tr>\n",
       "  </thead>\n",
       "  <tbody>\n",
       "    <tr>\n",
       "      <th>0</th>\n",
       "      <td>1</td>\n",
       "      <td>Electric</td>\n",
       "      <td>January</td>\n",
       "      <td>University One</td>\n",
       "      <td>100</td>\n",
       "      <td>1</td>\n",
       "      <td>2</td>\n",
       "      <td>-0.509137</td>\n",
       "      <td>-0.687321</td>\n",
       "    </tr>\n",
       "    <tr>\n",
       "      <th>1</th>\n",
       "      <td>2</td>\n",
       "      <td>Water</td>\n",
       "      <td>January</td>\n",
       "      <td>University One</td>\n",
       "      <td>100</td>\n",
       "      <td>1</td>\n",
       "      <td>2</td>\n",
       "      <td>-0.509137</td>\n",
       "      <td>-0.687321</td>\n",
       "    </tr>\n",
       "    <tr>\n",
       "      <th>2</th>\n",
       "      <td>11</td>\n",
       "      <td>Paper Recycling</td>\n",
       "      <td>May</td>\n",
       "      <td>University One</td>\n",
       "      <td>100</td>\n",
       "      <td>1</td>\n",
       "      <td>2</td>\n",
       "      <td>-0.509137</td>\n",
       "      <td>-0.687321</td>\n",
       "    </tr>\n",
       "  </tbody>\n",
       "</table>\n",
       "</div>"
      ],
      "text/plain": [
       "   campaign_id   campaign_descr month_name university_name  room_id  n  \\\n",
       "0            1         Electric    January  University One      100  1   \n",
       "1            2            Water    January  University One      100  1   \n",
       "2           11  Paper Recycling        May  University One      100  1   \n",
       "\n",
       "   cluster         x         y  \n",
       "0        2 -0.509137 -0.687321  \n",
       "1        2 -0.509137 -0.687321  \n",
       "2        2 -0.509137 -0.687321  "
      ]
     },
     "execution_count": 14,
     "metadata": {},
     "output_type": "execute_result"
    }
   ],
   "source": [
    "df = pandas.merge(df_envtproject_campaignparticipants, room_clusters)\n",
    "df.head(3)"
   ]
  },
  {
   "cell_type": "markdown",
   "metadata": {},
   "source": [
    "#### Graph the clusters to analyze the groups visually"
   ]
  },
  {
   "cell_type": "code",
   "execution_count": 15,
   "metadata": {},
   "outputs": [
    {
     "data": {
      "text/plain": [
       "<seaborn.axisgrid.FacetGrid at 0x7fb10ae9a310>"
      ]
     },
     "execution_count": 15,
     "metadata": {},
     "output_type": "execute_result"
    },
    {
     "data": {
      "image/png": "[encoded data removed]",
      "text/plain": [
       "<Figure size 927.625x576 with 1 Axes>"
      ]
     },
     "metadata": {},
     "output_type": "display_data"
    }
   ],
   "source": [
    "seaborn.set(font_scale=1.5)\n",
    "seaborn.lmplot(x='x', y='y', data=room_clusters, \\\n",
    "               hue=\"cluster\", palette='husl', fit_reg=False, \\\n",
    "               size=8, aspect=1.5, scatter_kws={\"s\": 110})"
   ]
  },
  {
   "cell_type": "markdown",
   "metadata": {},
   "source": [
    "#### Finally, we can look at the data from one perspective: cluster-group vs participation\n",
    "##### Here we can view our groups of similar participants and analyze the data through questions like:\n",
    "- Which group did best at the Paper recycling campaign? <em>Group 2 with a participation of 8 dorm rooms</em>\n",
    "- Which groups did poorly at Water conservation campaign?<em>Group 0 had no participation in our water campaigns</em>\n",
    "- We group cares about the most campaigns? <em>Group 2 participated in 9 campaigns!</em>\n",
    "- Which group can we target with an email on a campaign to increase participation? <em>We can target Group 2 with an email about our Toys Donation campaign since we had only one participant</em>"
   ]
  },
  {
   "cell_type": "code",
   "execution_count": 16,
   "metadata": {},
   "outputs": [
    {
     "data": {
      "text/plain": [
       "cluster  campaign_descr   \n",
       "0        Water                37\n",
       "         Food Donation         2\n",
       "         Book Donation         1\n",
       "         Clothing Donation     1\n",
       "         Electric              1\n",
       "         Paper Recycling       1\n",
       "1        Plastic Recycling    32\n",
       "         Food Donation        20\n",
       "         Electric             16\n",
       "         Toys Donation        16\n",
       "         Book Donation         6\n",
       "         Paper Recycling       5\n",
       "         Metal Recycling       1\n",
       "2        Paper Recycling      75\n",
       "         Metal Recycling      31\n",
       "         Food Donation        21\n",
       "         Electric             15\n",
       "         Clothing Donation    14\n",
       "         Book Donation        13\n",
       "         Plastic Recycling     8\n",
       "         Water                 7\n",
       "         Toys Donation         1\n",
       "Name: campaign_descr, dtype: int64"
      ]
     },
     "execution_count": 16,
     "metadata": {},
     "output_type": "execute_result"
    }
   ],
   "source": [
    "df1 = df.groupby(\"cluster\").campaign_descr.value_counts()\n",
    "df1"
   ]
  },
  {
   "cell_type": "markdown",
   "metadata": {},
   "source": [
    "#### We can use pandas merge and filter functions to create a new set with the emails of the students in a group.\n",
    "We can use this email list to contact the students by email!"
   ]
  },
  {
   "cell_type": "code",
   "execution_count": 17,
   "metadata": {},
   "outputs": [
    {
     "data": {
      "text/html": [
       "<div>\n",
       "<style scoped>\n",
       "    .dataframe tbody tr th:only-of-type {\n",
       "        vertical-align: middle;\n",
       "    }\n",
       "\n",
       "    .dataframe tbody tr th {\n",
       "        vertical-align: top;\n",
       "    }\n",
       "\n",
       "    .dataframe thead th {\n",
       "        text-align: right;\n",
       "    }\n",
       "</style>\n",
       "<table border=\"1\" class=\"dataframe\">\n",
       "  <thead>\n",
       "    <tr style=\"text-align: right;\">\n",
       "      <th></th>\n",
       "      <th>cluster</th>\n",
       "      <th>room_id</th>\n",
       "      <th>student_email</th>\n",
       "    </tr>\n",
       "  </thead>\n",
       "  <tbody>\n",
       "    <tr>\n",
       "      <th>0</th>\n",
       "      <td>0</td>\n",
       "      <td>1</td>\n",
       "      <td>sshowt0@hugedomains.com</td>\n",
       "    </tr>\n",
       "    <tr>\n",
       "      <th>1</th>\n",
       "      <td>0</td>\n",
       "      <td>1</td>\n",
       "      <td>sbirkby2s@who.int</td>\n",
       "    </tr>\n",
       "    <tr>\n",
       "      <th>2</th>\n",
       "      <td>0</td>\n",
       "      <td>2</td>\n",
       "      <td>vkeech1@noaa.gov</td>\n",
       "    </tr>\n",
       "    <tr>\n",
       "      <th>3</th>\n",
       "      <td>0</td>\n",
       "      <td>2</td>\n",
       "      <td>lthorn2t@comsenz.com</td>\n",
       "    </tr>\n",
       "    <tr>\n",
       "      <th>16</th>\n",
       "      <td>0</td>\n",
       "      <td>9</td>\n",
       "      <td>bwardley8@squarespace.com</td>\n",
       "    </tr>\n",
       "    <tr>\n",
       "      <th>17</th>\n",
       "      <td>0</td>\n",
       "      <td>9</td>\n",
       "      <td>wgateland30@feedburner.com</td>\n",
       "    </tr>\n",
       "    <tr>\n",
       "      <th>22</th>\n",
       "      <td>0</td>\n",
       "      <td>12</td>\n",
       "      <td>ejacklinb@comcast.net</td>\n",
       "    </tr>\n",
       "    <tr>\n",
       "      <th>23</th>\n",
       "      <td>0</td>\n",
       "      <td>12</td>\n",
       "      <td>dretchless33@hhs.gov</td>\n",
       "    </tr>\n",
       "    <tr>\n",
       "      <th>30</th>\n",
       "      <td>0</td>\n",
       "      <td>16</td>\n",
       "      <td>acokaynef@jimdo.com</td>\n",
       "    </tr>\n",
       "    <tr>\n",
       "      <th>31</th>\n",
       "      <td>0</td>\n",
       "      <td>16</td>\n",
       "      <td>lmcilwrick37@cbc.ca</td>\n",
       "    </tr>\n",
       "  </tbody>\n",
       "</table>\n",
       "</div>"
      ],
      "text/plain": [
       "    cluster  room_id               student_email\n",
       "0         0        1     sshowt0@hugedomains.com\n",
       "1         0        1           sbirkby2s@who.int\n",
       "2         0        2            vkeech1@noaa.gov\n",
       "3         0        2        lthorn2t@comsenz.com\n",
       "16        0        9   bwardley8@squarespace.com\n",
       "17        0        9  wgateland30@feedburner.com\n",
       "22        0       12       ejacklinb@comcast.net\n",
       "23        0       12        dretchless33@hhs.gov\n",
       "30        0       16         acokaynef@jimdo.com\n",
       "31        0       16         lmcilwrick37@cbc.ca"
      ]
     },
     "execution_count": 17,
     "metadata": {},
     "output_type": "execute_result"
    }
   ],
   "source": [
    "df_cluster_students = pandas.merge(room_clusters, df_envtproject_student)\n",
    "df_cluster_students = df_cluster_students[df_cluster_students['cluster'] == 0][['cluster','room_id','student_email']]\n",
    "df_cluster_students.head(10)"
   ]
  },
  {
   "cell_type": "markdown",
   "metadata": {},
   "source": [
    "## Conclusion\n",
    "#### Can we motivate more students to be more envionmentally conscious?\n",
    "Our analysis has allowed us to break down our student population by their environment campaign participation and group them by similar attributes. We can now look at the data in groups and target these groups through email, posters and other medium rather than individually sifting through the data. Further, we can look at what campaign groups care about and possibly try to motivate them to participate in campaigns which were missed or resulted in a low participation effort.\n",
    "\n",
    "Clustering and segmentation is core to segmenting and understanding campaigns and their participants. As we saw in the example above, it is another powerful data tool in your tool box to help you understand and target your audience.\n"
   ]
  }
 ],
 "metadata": {
  "kernelspec": {
   "display_name": "Python 2",
   "language": "python",
   "name": "python2"
  },
  "language_info": {
   "codemirror_mode": {
    "name": "ipython",
    "version": 2
   },
   "file_extension": ".py",
   "mimetype": "text/x-python",
   "name": "python",
   "nbconvert_exporter": "python",
   "pygments_lexer": "ipython2",
   "version": "2.7.15"
  }
 },
 "nbformat": 4,
 "nbformat_minor": 2
}
